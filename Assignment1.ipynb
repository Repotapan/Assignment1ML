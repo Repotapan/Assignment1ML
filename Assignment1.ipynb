{
 "cells": [
  {
   "cell_type": "markdown",
   "id": "bfa1cb40-c6e5-4a40-9ad3-9e3d525549a9",
   "metadata": {},
   "source": [
    "QD- Explain thK following with an example\n",
    "C) Artificial Intelligence\n",
    "<) Machine learing\n",
    "I) Deep learning"
   ]
  },
  {
   "cell_type": "markdown",
   "id": "ba24bca5-ceb0-477b-be3f-46f23ba5dbce",
   "metadata": {},
   "source": [
    "AI is a small application that can perform it's own task without any human intervention.\n",
    "example: self_driving car,robots,alexs\n",
    "ML provides some start tools to analyze,visualize,create predictive models and perform free casting.\n",
    "exampe: Amazon.in,Netflix\n",
    "Deep Learning : It mimic the human brains "
   ]
  },
  {
   "cell_type": "markdown",
   "id": "a866f1bc-a467-41d8-bb2e-f9b8b20366fc",
   "metadata": {},
   "source": [
    "Q2- What is supervised learning? List some examples of supervised learning?"
   ]
  },
  {
   "cell_type": "markdown",
   "id": "a6b751ff-8930-4672-98b9-ac4e2503231c",
   "metadata": {},
   "source": [
    "Supervised learning is a type of machine learning algorithm in which the algorithm is trained on a labeled dataset, where each example is associated with an input (or set of inputs) and a corresponding output (or set of outputs). The goal of supervised learning is to learn a function that can predict the output for new input data that it has not seen before.\n",
    "\n",
    "Examples of supervised learning include:\n",
    "\n",
    "Linear regression: A technique used to predict a continuous output variable based on one or more input variables.\n",
    "\n",
    "Logistic regression: A technique used to classify input data into one of two or more categories based on the input features.\n",
    "\n",
    "Decision trees: A technique used to classify input data by recursively partitioning the feature space into subsets based on the values of the input features.\n",
    "\n",
    "Random forests: An ensemble learning technique that combines multiple decision trees to improve the accuracy and robustness of the model.\n",
    "\n",
    "Support vector machines (SVMs): A technique used to classify input data into one of two or more categories by finding the hyperplane that maximally separates the different classes.\n",
    "\n",
    "Artificial neural networks (ANNs): A technique inspired by the structure of the brain that is capable of learning complex, nonlinear relationships between the input and output variables.\n",
    "\n",
    "These techniques have been successfully applied to a wide range of applications, including image classification, speech recognition, natural language processing, and financial forecasting, among others."
   ]
  },
  {
   "cell_type": "markdown",
   "id": "0f37a947-016d-4ce2-9fad-d1823f428adb",
   "metadata": {},
   "source": [
    "Q3- What is unsupervised learning? List some examples of unsupervised learning.?"
   ]
  },
  {
   "cell_type": "markdown",
   "id": "8d777a1a-b130-46c4-890b-79ca80f18d34",
   "metadata": {},
   "source": [
    "Unsupervised learning is a type of machine learning algorithm in which the algorithm is trained on an unlabeled dataset, where the output (or desired outcome) is not known. The goal of unsupervised learning is to find interesting patterns and relationships in the data without any prior knowledge of the output.\n",
    "\n",
    "Examples of unsupervised learning include:\n",
    "\n",
    "Clustering: A technique used to group similar data points together based on their similarity in the input space. K-means clustering, hierarchical clustering, and density-based clustering are common examples of clustering algorithms.\n",
    "\n",
    "Principal component analysis (PCA): A technique used to reduce the dimensionality of high-dimensional data by projecting it onto a lower-dimensional space while preserving the most important information.\n",
    "\n",
    "Anomaly detection: A technique used to identify unusual or abnormal data points that deviate from the normal pattern in the input data.\n",
    "\n",
    "Association rule learning: A technique used to discover interesting associations or correlations between different variables in the input data.\n",
    "\n",
    "Generative adversarial networks (GANs): A technique that uses two neural networks, a generator and a discriminator, to generate new data that resembles the original input data.\n",
    "\n",
    "Dimensionality reduction: A technique used to reduce the number of features or variables in the input data while preserving the most important information. Techniques such as t-SNE, UMAP, and autoencoders are common examples of dimensionality reduction techniques.\n",
    "\n",
    "These techniques have been successfully applied to a wide range of applications, including image and speech recognition, recommendation systems, fraud detection, and anomaly detection, among others."
   ]
  },
  {
   "cell_type": "markdown",
   "id": "6651b73e-7956-48dc-839b-797a99a0ace8",
   "metadata": {},
   "source": [
    "Q4- What is the difference between AI, ML, DL, and DS?"
   ]
  },
  {
   "cell_type": "markdown",
   "id": "feb53254-43c6-459c-b595-54809e6ed894",
   "metadata": {},
   "source": [
    "AI, ML, DL, and DS are all related but distinct terms that are often used interchangeably, which can lead to confusion. Here is a brief overview of the differences between these terms:\n",
    "\n",
    "Artificial Intelligence (AI): AI refers to the broader field of creating intelligent machines that can perform tasks that typically require human-level intelligence, such as understanding natural language, recognizing images, or making decisions. AI encompasses a range of techniques, including machine learning, deep learning, natural language processing, robotics, and computer vision.\n",
    "\n",
    "Machine Learning (ML): ML is a subset of AI that focuses on the development of algorithms that can learn patterns and relationships in data without being explicitly programmed. ML algorithms are trained on labeled data, and they use statistical and mathematical techniques to make predictions or decisions on new, unseen data.\n",
    "\n",
    "Deep Learning (DL): DL is a subset of ML that uses neural networks with many layers to learn hierarchical representations of the input data. DL algorithms have shown remarkable success in image recognition, speech recognition, and natural language processing tasks, among others.\n",
    "\n",
    "Data Science (DS): DS is an interdisciplinary field that combines statistical and computational techniques to extract insights and knowledge from complex data. DS involves a range of activities, including data collection, cleaning, preprocessing, analysis, visualization, and communication of results."
   ]
  },
  {
   "cell_type": "markdown",
   "id": "30af4d4a-e347-4192-8b8e-d0b9a86541b7",
   "metadata": {},
   "source": [
    "Q5- What are the main differences between supervised, unsupervised, and semi-supervised learning?"
   ]
  },
  {
   "cell_type": "markdown",
   "id": "83eb58f4-0b6f-48c5-ac45-440a5b3cbac0",
   "metadata": {},
   "source": [
    "The main differences between supervised, unsupervised, and semi-supervised learning are:\n",
    "\n",
    "Supervised Learning: In supervised learning, the algorithm is trained on a labeled dataset where each example is associated with an input and a corresponding output. The goal of supervised learning is to learn a function that can predict the output for new input data that it has not seen before. Supervised learning algorithms can be used for classification or regression tasks.\n",
    "\n",
    "Unsupervised Learning: In unsupervised learning, the algorithm is trained on an unlabeled dataset where the output (or desired outcome) is not known. The goal of unsupervised learning is to find interesting patterns and relationships in the data without any prior knowledge of the output. Unsupervised learning algorithms can be used for clustering, dimensionality reduction, anomaly detection, and association rule learning tasks.\n",
    "\n",
    "Semi-Supervised Learning: In semi-supervised learning, the algorithm is trained on a dataset that contains both labeled and unlabeled examples. The goal of semi-supervised learning is to leverage the unlabeled data to improve the performance of the model on the labeled data. Semi-supervised learning algorithms can be used for classification or regression tasks, as well as for clustering, dimensionality reduction, and anomaly detection tasks."
   ]
  },
  {
   "cell_type": "markdown",
   "id": "73a9657e-45b5-4e57-ae31-d4d5c6278d3c",
   "metadata": {},
   "source": [
    "Q6- What is traine, test and validation split? Explain the importance of each term.?"
   ]
  },
  {
   "cell_type": "markdown",
   "id": "6db6ce95-cc66-43d9-aff8-e8404056e535",
   "metadata": {},
   "source": [
    "In machine learning, it is common to split the dataset into three parts: training set, validation set, and test set. The importance of each split is as follows:\n",
    "\n",
    "Training Set: The training set is used to train the machine learning model. The model is trained by adjusting its parameters to minimize the error between the predicted output and the actual output on the training data. The training set is the largest set and typically consists of 60-80% of the data.\n",
    "\n",
    "Validation Set: The validation set is used to evaluate the performance of the model during training. The model is evaluated on the validation set after each epoch of training to monitor the learning progress and detect overfitting. Overfitting occurs when the model is too complex and starts to memorize the training data instead of learning generalizable patterns. The validation set is typically 10-20% of the data and is used to tune the hyperparameters of the model, such as the learning rate, the number of layers, or the number of neurons.\n",
    "\n",
    "Test Set: The test set is used to evaluate the final performance of the trained model. The model is evaluated on the test set after the training is completed to estimate its performance on new, unseen data. The test set is usually 20-30% of the data and should not be used during the training or validation phases to avoid biasing the evaluation."
   ]
  },
  {
   "cell_type": "markdown",
   "id": "bc12c64c-1bcd-4466-8ec6-16272b2a79b2",
   "metadata": {},
   "source": [
    "Q7- How can unsupervised learning be used in anomaly detection?"
   ]
  },
  {
   "cell_type": "markdown",
   "id": "57f88226-37a7-466f-b08b-15c6ccc5e580",
   "metadata": {},
   "source": [
    "Unsupervised learning can be used in anomaly detection by identifying patterns in the data that deviate significantly from the norm. Anomaly detection is the process of identifying rare events or patterns that do not conform to the expected behavior of the system. It is an important application of unsupervised learning since it is often difficult to obtain labeled data for anomalies, as they are rare and unpredictable.\n",
    "\n",
    "One approach to anomaly detection using unsupervised learning is to use clustering algorithms to group similar data points together and identify outliers that do not belong to any cluster. This is called density-based clustering, where the density of the data points is used to identify clusters and detect anomalies. For example, DBSCAN (Density-Based Spatial Clustering of Applications with Noise) is a popular density-based clustering algorithm that can identify clusters of varying shapes and sizes, including noise points that do not belong to any cluster."
   ]
  },
  {
   "cell_type": "markdown",
   "id": "6725dbfc-610d-425d-ab83-6990110bb8d6",
   "metadata": {},
   "source": [
    "Q8- List down some commonly used supervised learning algorithms and unsupervised learning\n",
    "algorithms.?"
   ]
  },
  {
   "cell_type": "markdown",
   "id": "305b3b69-20f8-43bc-b6b0-1e7eecca8ca7",
   "metadata": {},
   "source": [
    "Here are some commonly used algorithms in supervised and unsupervised learning:\n",
    "\n",
    "Supervised Learning Algorithms:\n",
    "\n",
    "Linear Regression\n",
    "Logistic Regression\n",
    "Decision Trees\n",
    "Random Forest\n",
    "Gradient Boosting\n",
    "Support Vector Machines (SVM)\n",
    "Naive Bayes\n",
    "K-Nearest Neighbors (KNN)\n",
    "Artificial Neural Networks (ANN)\n",
    "Convolutional Neural Networks (CNN)\n",
    "Recurrent Neural Networks (RNN)\n",
    "Long Short-Term Memory (LSTM)\n",
    "Unsupervised Learning Algorithms:\n",
    "\n",
    "K-Means Clustering\n",
    "Hierarchical Clustering\n",
    "Principal Component Analysis (PCA)\n",
    "Independent Component Analysis (ICA)\n",
    "Isolation Forest\n",
    "One-Class SVM\n",
    "Density-Based Spatial Clustering of Applications with Noise (DBSCAN)\n",
    "Autoencoders\n",
    "Generative Adversarial Networks (GAN)\n",
    "t-Distributed Stochastic Neighbor Embedding (t-SNE)"
   ]
  },
  {
   "cell_type": "code",
   "execution_count": null,
   "id": "0bd0d7e4-9b35-400f-9700-6daa9b058074",
   "metadata": {},
   "outputs": [],
   "source": []
  }
 ],
 "metadata": {
  "kernelspec": {
   "display_name": "Python 3 (ipykernel)",
   "language": "python",
   "name": "python3"
  },
  "language_info": {
   "codemirror_mode": {
    "name": "ipython",
    "version": 3
   },
   "file_extension": ".py",
   "mimetype": "text/x-python",
   "name": "python",
   "nbconvert_exporter": "python",
   "pygments_lexer": "ipython3",
   "version": "3.10.8"
  }
 },
 "nbformat": 4,
 "nbformat_minor": 5
}
